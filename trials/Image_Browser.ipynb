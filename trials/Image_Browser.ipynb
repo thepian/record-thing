{
  "cells": [
    {
      "cell_type": "markdown",
      "metadata": {
        "id": "Gw5mCBHteb38"
      },
      "source": [
        "## Image Browser"
      ]
    },
    {
      "cell_type": "markdown",
      "metadata": {
        "id": "uoRJMv3Web4A"
      },
      "source": [
        "This example shows how to browse through a set of images with a slider."
      ]
    },
    {
      "cell_type": "code",
      "execution_count": null,
      "metadata": {
        "id": "yWj3pN1heb4A",
        "tags": [
          "remove-cell"
        ]
      },
      "outputs": [
        {
          "name": "stdout",
          "output_type": "stream",
          "text": [
            "Note: you may need to restart the kernel to use updated packages.\n"
          ]
        }
      ],
      "source": [
        "# Imports for JupyterLite\n",
        "%pip install -q ipywidgets matplotlib scikit-learn"
      ]
    },
    {
      "cell_type": "code",
      "execution_count": null,
      "metadata": {
        "id": "-NYFl1qXeb4B"
      },
      "outputs": [],
      "source": [
        "%matplotlib inline\n",
        "import matplotlib.pyplot as plt"
      ]
    },
    {
      "cell_type": "code",
      "execution_count": null,
      "metadata": {
        "id": "wDIni4G8eb4B"
      },
      "outputs": [],
      "source": [
        "from ipywidgets import interact"
      ]
    },
    {
      "cell_type": "code",
      "execution_count": null,
      "metadata": {
        "id": "ikGk5Ce1eb4B"
      },
      "outputs": [],
      "source": [
        "from sklearn import datasets"
      ]
    },
    {
      "cell_type": "markdown",
      "metadata": {
        "id": "0ywLqi_Oeb4B"
      },
      "source": [
        "We will use the digits dataset from [scikit-learn](http://scikit-learn.org/stable/)."
      ]
    },
    {
      "cell_type": "code",
      "execution_count": null,
      "metadata": {
        "id": "gVGl31bgeb4B"
      },
      "outputs": [],
      "source": [
        "digits = datasets.load_digits()"
      ]
    },
    {
      "cell_type": "code",
      "execution_count": null,
      "metadata": {
        "id": "4Y2pfTJLeb4C"
      },
      "outputs": [],
      "source": [
        "def browse_images(digits):\n",
        "    n = len(digits.images)\n",
        "    def view_image(i):\n",
        "        plt.imshow(digits.images[i], cmap=plt.cm.gray_r, interpolation='nearest')\n",
        "        plt.title('Training: %s' % digits.target[i])\n",
        "        plt.show()\n",
        "    interact(view_image, i=(0,n-1))"
      ]
    },
    {
      "cell_type": "code",
      "execution_count": null,
      "metadata": {
        "id": "AIlRz3_Beb4C"
      },
      "outputs": [],
      "source": [
        "browse_images(digits)"
      ]
    },
    {
      "cell_type": "code",
      "execution_count": null,
      "metadata": {
        "id": "phm_8DNDeb4C"
      },
      "outputs": [],
      "source": []
    }
  ],
  "metadata": {
    "colab": {
      "provenance": []
    },
    "kernelspec": {
      "display_name": "Python 3 (ipykernel)",
      "language": "python",
      "name": "python3"
    },
    "language_info": {
      "codemirror_mode": {
        "name": "ipython",
        "version": 3
      },
      "file_extension": ".py",
      "mimetype": "text/x-python",
      "name": "python",
      "nbconvert_exporter": "python",
      "pygments_lexer": "ipython3",
      "version": "3.11.8"
    }
  },
  "nbformat": 4,
  "nbformat_minor": 0
}
