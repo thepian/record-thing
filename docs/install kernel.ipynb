{
 "cells": [
  {
   "cell_type": "markdown",
   "metadata": {},
   "source": [
    "## Install packages in Jupyter Kernel"
   ]
  },
  {
   "cell_type": "code",
   "execution_count": 1,
   "metadata": {},
   "outputs": [
    {
     "data": {
      "text/plain": [
       "['/Volumes/Projects/Evidently/record-thing',\n",
       " '/Volumes/Projects/Evidently/record-thing/.conda/lib/python311.zip',\n",
       " '/Volumes/Projects/Evidently/record-thing/.conda/lib/python3.11',\n",
       " '/Volumes/Projects/Evidently/record-thing/.conda/lib/python3.11/lib-dynload',\n",
       " '',\n",
       " '/Volumes/Projects/Evidently/record-thing/.conda/lib/python3.11/site-packages',\n",
       " '/Volumes/Projects/Evidently/record-thing/.conda/lib/python3.11/site-packages/setuptools/_vendor']"
      ]
     },
     "execution_count": 1,
     "metadata": {},
     "output_type": "execute_result"
    }
   ],
   "source": [
    "import sys, os\n",
    "proj = os.path.dirname(os.getcwd())\n",
    "if proj not in sys.path:\n",
    "    sys.path.insert(0, proj)\n",
    "sys.path"
   ]
  },
  {
   "cell_type": "code",
   "execution_count": null,
   "metadata": {},
   "outputs": [],
   "source": [
    "# %pip install https://github.com/thepian/snowfall\n",
    "%pip install cyksuid\n",
    "\n",
    "from cyksuid.v2 import ksuid, parse\n",
    "ksuid().bytes"
   ]
  },
  {
   "cell_type": "code",
   "execution_count": null,
   "metadata": {},
   "outputs": [
    {
     "name": "stdout",
     "output_type": "stream",
     "text": [
      "/Users/henrikvendelbo/.zshenv:.:1: no such file or directory: /Users/henrikvendelbo/.cargo/env\n",
      "Requirement already satisfied: torch in /Volumes/Projects/Evidently/record-thing/.conda/lib/python3.11/site-packages (2.5.1)\n",
      "Requirement already satisfied: torchvision in /Volumes/Projects/Evidently/record-thing/.conda/lib/python3.11/site-packages (0.20.1)\n",
      "Requirement already satisfied: torchaudio in /Volumes/Projects/Evidently/record-thing/.conda/lib/python3.11/site-packages (2.5.1)\n",
      "Requirement already satisfied: filelock in /Volumes/Projects/Evidently/record-thing/.conda/lib/python3.11/site-packages (from torch) (3.16.1)\n",
      "Requirement already satisfied: typing-extensions>=4.8.0 in /Volumes/Projects/Evidently/record-thing/.conda/lib/python3.11/site-packages (from torch) (4.12.2)\n",
      "Requirement already satisfied: sympy==1.13.1 in /Volumes/Projects/Evidently/record-thing/.conda/lib/python3.11/site-packages (from torch) (1.13.1)\n",
      "Requirement already satisfied: networkx in /Volumes/Projects/Evidently/record-thing/.conda/lib/python3.11/site-packages (from torch) (3.3)\n",
      "Requirement already satisfied: jinja2 in /Volumes/Projects/Evidently/record-thing/.conda/lib/python3.11/site-packages (from torch) (3.1.4)\n",
      "Requirement already satisfied: fsspec in /Volumes/Projects/Evidently/record-thing/.conda/lib/python3.11/site-packages (from torch) (2024.10.0)\n",
      "Requirement already satisfied: mpmath<1.4,>=1.1.0 in /Volumes/Projects/Evidently/record-thing/.conda/lib/python3.11/site-packages (from sympy==1.13.1->torch) (1.3.0)\n",
      "Requirement already satisfied: numpy in /Volumes/Projects/Evidently/record-thing/.conda/lib/python3.11/site-packages (from torchvision) (2.0.1)\n",
      "Requirement already satisfied: pillow!=8.3.*,>=5.3.0 in /Volumes/Projects/Evidently/record-thing/.conda/lib/python3.11/site-packages (from torchvision) (11.0.0)\n",
      "Requirement already satisfied: MarkupSafe>=2.0 in /Volumes/Projects/Evidently/record-thing/.conda/lib/python3.11/site-packages (from jinja2->torch) (3.0.2)\n"
     ]
    }
   ],
   "source": [
    "%pip install torch torchvision torchaudio"
   ]
  },
  {
   "cell_type": "code",
   "execution_count": 7,
   "metadata": {},
   "outputs": [
    {
     "name": "stdout",
     "output_type": "stream",
     "text": [
      "/Users/henrikvendelbo/.zshenv:.:1: no such file or directory: /Users/henrikvendelbo/.cargo/env\n",
      "Collecting xformers\n",
      "  Using cached xformers-0.0.28.post3.tar.gz (7.8 MB)\n",
      "  Preparing metadata (setup.py) ... \u001b[?25lerror\n",
      "  \u001b[1;31merror\u001b[0m: \u001b[1msubprocess-exited-with-error\u001b[0m\n",
      "  \n",
      "  \u001b[31m×\u001b[0m \u001b[32mpython setup.py egg_info\u001b[0m did not run successfully.\n",
      "  \u001b[31m│\u001b[0m exit code: \u001b[1;36m1\u001b[0m\n",
      "  \u001b[31m╰─>\u001b[0m \u001b[31m[10 lines of output]\u001b[0m\n",
      "  \u001b[31m   \u001b[0m Traceback (most recent call last):\n",
      "  \u001b[31m   \u001b[0m   File \"<string>\", line 2, in <module>\n",
      "  \u001b[31m   \u001b[0m   File \"<pip-setuptools-caller>\", line 34, in <module>\n",
      "  \u001b[31m   \u001b[0m   File \"/private/var/folders/3z/21fx2gmx2rv7hsmz7rysfss00000gn/T/pip-install-iazs39y8/xformers_afc5bf45cb4a43148d90177d6ae99a47/setup.py\", line 25, in <module>\n",
      "  \u001b[31m   \u001b[0m     from torch.utils.cpp_extension import (\n",
      "  \u001b[31m   \u001b[0m   File \"/Volumes/Projects/Evidently/record-thing/.conda/lib/python3.11/site-packages/torch/utils/__init__.py\", line 8, in <module>\n",
      "  \u001b[31m   \u001b[0m     from torch.utils import (\n",
      "  \u001b[31m   \u001b[0m   File \"/Volumes/Projects/Evidently/record-thing/.conda/lib/python3.11/site-packages/torch/utils/backcompat/__init__.py\", line 2, in <module>\n",
      "  \u001b[31m   \u001b[0m     from torch._C import _set_backcompat_broadcast_warn\n",
      "  \u001b[31m   \u001b[0m ImportError: cannot import name '_set_backcompat_broadcast_warn' from 'torch._C' (unknown location)\n",
      "  \u001b[31m   \u001b[0m \u001b[31m[end of output]\u001b[0m\n",
      "  \n",
      "  \u001b[1;35mnote\u001b[0m: This error originates from a subprocess, and is likely not a problem with pip.\n",
      "\u001b[?25h\u001b[1;31merror\u001b[0m: \u001b[1mmetadata-generation-failed\u001b[0m\n",
      "\n",
      "\u001b[31m×\u001b[0m Encountered error while generating package metadata.\n",
      "\u001b[31m╰─>\u001b[0m See above for output.\n",
      "\n",
      "\u001b[1;35mnote\u001b[0m: This is an issue with the package mentioned above, not pip.\n",
      "\u001b[1;36mhint\u001b[0m: See above for details.\n"
     ]
    }
   ],
   "source": [
    "!pip install xformers"
   ]
  },
  {
   "cell_type": "code",
   "execution_count": 8,
   "metadata": {},
   "outputs": [
    {
     "name": "stdout",
     "output_type": "stream",
     "text": [
      "/Users/henrikvendelbo/.zshenv:.:1: no such file or directory: /Users/henrikvendelbo/.cargo/env\n",
      "Note: you may need to restart the kernel to use updated packages.\n",
      "/Users/henrikvendelbo/.zshenv:.:1: no such file or directory: /Users/henrikvendelbo/.cargo/env\n",
      "/opt/homebrew/Caskroom/miniconda/base/lib/python3.11/site-packages/conda/base/context.py:200: FutureWarning: Adding 'defaults' to channel list implicitly is deprecated and will be removed in 25.3. \n",
      "\n",
      "To remove this warning, please choose a default channel explicitly with conda's regular configuration system, e.g. by adding 'defaults' to the list of channels:\n",
      "\n",
      "  conda config --add channels defaults\n",
      "\n",
      "For more information see https://docs.conda.io/projects/conda/en/stable/user-guide/configuration/use-condarc.html\n",
      "\n",
      "  deprecated.topic(\n",
      "/opt/homebrew/Caskroom/miniconda/base/lib/python3.11/site-packages/conda/base/context.py:200: FutureWarning: Adding 'defaults' to channel list implicitly is deprecated and will be removed in 25.3. \n",
      "\n",
      "To remove this warning, please choose a default channel explicitly with conda's regular configuration system, e.g. by adding 'defaults' to the list of channels:\n",
      "\n",
      "  conda config --add channels defaults\n",
      "\n",
      "For more information see https://docs.conda.io/projects/conda/en/stable/user-guide/configuration/use-condarc.html\n",
      "\n",
      "  deprecated.topic(\n",
      "Channels:\n",
      " - defaults\n",
      " - conda-forge\n",
      " - pytorch\n",
      "Platform: osx-arm64\n",
      "Collecting package metadata (repodata.json): done\n",
      "Solving environment: done\n",
      "\n",
      "# All requested packages already installed.\n",
      "\n",
      "\n",
      "Note: you may need to restart the kernel to use updated packages.\n",
      "/Users/henrikvendelbo/.zshenv:.:1: no such file or directory: /Users/henrikvendelbo/.cargo/env\n",
      "Requirement already satisfied: sqlalchemy_rqlite in /Volumes/Projects/Evidently/record-thing/.conda/lib/python3.11/site-packages (2.0)\n",
      "Requirement already satisfied: SQLAlchemy in /Volumes/Projects/Evidently/record-thing/.conda/lib/python3.11/site-packages (from sqlalchemy_rqlite) (2.0.34)\n",
      "Requirement already satisfied: pyrqlite in /Volumes/Projects/Evidently/record-thing/.conda/lib/python3.11/site-packages (from sqlalchemy_rqlite) (2.2.3)\n",
      "Requirement already satisfied: typing-extensions>=4.6.0 in /Volumes/Projects/Evidently/record-thing/.conda/lib/python3.11/site-packages (from SQLAlchemy->sqlalchemy_rqlite) (4.12.2)\n",
      "Note: you may need to restart the kernel to use updated packages.\n",
      "/Users/henrikvendelbo/.zshenv:.:1: no such file or directory: /Users/henrikvendelbo/.cargo/env\n",
      "Requirement already satisfied: pyrqlite in /Volumes/Projects/Evidently/record-thing/.conda/lib/python3.11/site-packages (2.2.3)\n",
      "Note: you may need to restart the kernel to use updated packages.\n"
     ]
    }
   ],
   "source": [
    "# You need to install sqlite-vec as a dependency.\n",
    "%pip install --upgrade --quiet  sqlite-vec\n",
    "%conda install conda-forge::sqlmodel\n",
    "%pip install sqlalchemy_rqlite\n",
    "%pip install pyrqlite"
   ]
  },
  {
   "cell_type": "markdown",
   "metadata": {},
   "source": []
  }
 ],
 "metadata": {
  "kernelspec": {
   "display_name": "Python 3",
   "language": "python",
   "name": "python3"
  },
  "language_info": {
   "codemirror_mode": {
    "name": "ipython",
    "version": 3
   },
   "file_extension": ".py",
   "mimetype": "text/x-python",
   "name": "python",
   "nbconvert_exporter": "python",
   "pygments_lexer": "ipython3",
   "version": "3.11.10"
  }
 },
 "nbformat": 4,
 "nbformat_minor": 2
}
