{
 "cells": [
  {
   "cell_type": "code",
   "execution_count": 1,
   "metadata": {},
   "outputs": [],
   "source": [
    "%reload_ext autoreload\n",
    "%autoreload 2"
   ]
  },
  {
   "cell_type": "code",
   "execution_count": 2,
   "metadata": {},
   "outputs": [
    {
     "data": {
      "text/plain": [
       "['/Volumes/Projects/Evidently/record-thing',\n",
       " '/opt/homebrew/Caskroom/miniconda/base/lib/python311.zip',\n",
       " '/opt/homebrew/Caskroom/miniconda/base/lib/python3.11',\n",
       " '/opt/homebrew/Caskroom/miniconda/base/lib/python3.11/lib-dynload',\n",
       " '',\n",
       " '/opt/homebrew/Caskroom/miniconda/base/lib/python3.11/site-packages']"
      ]
     },
     "execution_count": 2,
     "metadata": {},
     "output_type": "execute_result"
    }
   ],
   "source": [
    "import sys, os\n",
    "proj = os.path.dirname(os.getcwd())\n",
    "if proj not in sys.path:\n",
    "    sys.path.insert(0, proj)\n",
    "sys.path"
   ]
  },
  {
   "cell_type": "code",
   "execution_count": 3,
   "metadata": {},
   "outputs": [],
   "source": [
    "# Device independent code\n",
    "import torch\n",
    "\n",
    "device = \"cpu\" \n",
    "if torch.cuda.is_available():\n",
    "    device = \"cuda\"\n",
    "# if torch.backends.mps.is_available:\n",
    "#     device = torch.device(\"mps\")\n",
    "torch.device(device)\n",
    "torch.set_default_device(device=device)\n",
    "\n",
    "os.environ[\"PYTORCH_ENABLE_MPS_FALLBACK\"] = \"1\""
   ]
  },
  {
   "cell_type": "code",
   "execution_count": 4,
   "metadata": {},
   "outputs": [
    {
     "name": "stdout",
     "output_type": "stream",
     "text": [
      "/Users/henrikvendelbo/.zshenv:.:1: no such file or directory: /Users/henrikvendelbo/.cargo/env\n",
      "\u001b[1A\u001b[1B\u001b[0G\u001b[?25l[+] Running 1/0\n",
      " \u001b[32m✔\u001b[0m Container rqlite_server  \u001b[32mRunning\u001b[0m                                        \u001b[34m0.0s \u001b[0m\n",
      "\u001b[?25h"
     ]
    }
   ],
   "source": [
    "!docker compose up -d"
   ]
  },
  {
   "cell_type": "code",
   "execution_count": 5,
   "metadata": {},
   "outputs": [
    {
     "data": {
      "text/plain": [
       "<sqlite3.Connection at 0x126b9ff10>"
      ]
     },
     "execution_count": 5,
     "metadata": {},
     "output_type": "execute_result"
    }
   ],
   "source": [
    "from dataset.db import init_db_sqlite\n",
    "connection = init_db_sqlite(disconnect=False)\n",
    "connection"
   ]
  },
  {
   "cell_type": "markdown",
   "metadata": {},
   "source": [
    "# UPC/QR lookup\n",
    "\n",
    "If the scanner recognises a barcode or QR code the product number should be looked up.\n",
    "If multiple matches are found the category of product should be used to pick the most likely match.\n",
    "The user is asked to confirm the match YES/NO."
   ]
  },
  {
   "cell_type": "code",
   "execution_count": 9,
   "metadata": {},
   "outputs": [
    {
     "name": "stdout",
     "output_type": "stream",
     "text": [
      "Product found: (b'2puGqVPJ8acvaiBzY5kxcwZATLX', b'2puGrC5nHEndsfLjQ8GqXGrikaT', '885909950805', 'B00NQGOZV0', '195389220744', 'Apple', 'MG5A2LL/A', 'Space Gray', ',,', 'Electronics > Communications > Telephony > Mobile Phones > Unlocked Mobile Phones', 'Apple iPhone 6, Space Gray, 64 GB (T-Mobile)', 'Display   Retina HD display 1334-by-750-pixel resolution at 326 ppi 1400:1 contrast ratio (typical) 500 cd/m2 max brightness (typical) Full sRGB standard Dual-domain pixels for wider viewing angles Fingerprint-resistant oleophobic coating on front Support for display of multiple languages and characters simultaneously Display Zoom iSight Camera Autofocus with Focus Pixels f/2.2 aperture True Tone flashHybrid IR filter Backside illumination sensor Sapphire crystal lens cover Auto image stabilization Auto HD...', 'Apple iPhone 6, Space Gray, 64 GB (T-Mobile)')\n",
      "Product found: id=b'2puGrC5nHEndsfLjQ8GqXGrikaT' account=b'2puGqVPJ8acvaiBzY5kxcwZATLX' upc='885909950805' asin='B00NQGOZV0' elid='195389220744' brand='Apple' model='MG5A2LL/A' color='Space Gray' tags=',,' category='Electronics > Communications > Telephony > Mobile Phones > Unlocked Mobile Phones' title='Apple iPhone 6, Space Gray, 64 GB (T-Mobile)' description='Display   Retina HD display 1334-by-750-pixel resolution at 326 ppi 1400:1 contrast ratio (typical) 500 cd/m2 max brightness (typical) Full sRGB standard Dual-domain pixels for wider viewing angles Fingerprint-resistant oleophobic coating on front Support for display of multiple languages and characters simultaneously Display Zoom iSight Camera Autofocus with Focus Pixels f/2.2 aperture True Tone flashHybrid IR filter Backside illumination sensor Sapphire crystal lens cover Auto image stabilization Auto HD...' name='Apple iPhone 6, Space Gray, 64 GB (T-Mobile)'\n",
      "id=b'2puGrC5nHEndsfLjQ8GqXGrikaT' account=b'2puGqVPJ8acvaiBzY5kxcwZATLX' upc='885909950805' asin='B00NQGOZV0' elid='195389220744' brand='Apple' model='MG5A2LL/A' color='Space Gray' tags=',,' category='Electronics > Communications > Telephony > Mobile Phones > Unlocked Mobile Phones' title='Apple iPhone 6, Space Gray, 64 GB (T-Mobile)' description='Display   Retina HD display 1334-by-750-pixel resolution at 326 ppi 1400:1 contrast ratio (typical) 500 cd/m2 max brightness (typical) Full sRGB standard Dual-domain pixels for wider viewing angles Fingerprint-resistant oleophobic coating on front Support for display of multiple languages and characters simultaneously Display Zoom iSight Camera Autofocus with Focus Pixels f/2.2 aperture True Tone flashHybrid IR filter Backside illumination sensor Sapphire crystal lens cover Auto image stabilization Auto HD...' name='Apple iPhone 6, Space Gray, 64 GB (T-Mobile)'\n"
     ]
    },
    {
     "data": {
      "text/html": [
       "<div>\n",
       "<style scoped>\n",
       "    .dataframe tbody tr th:only-of-type {\n",
       "        vertical-align: middle;\n",
       "    }\n",
       "\n",
       "    .dataframe tbody tr th {\n",
       "        vertical-align: top;\n",
       "    }\n",
       "\n",
       "    .dataframe thead th {\n",
       "        text-align: right;\n",
       "    }\n",
       "</style>\n",
       "<table border=\"1\" class=\"dataframe\">\n",
       "  <thead>\n",
       "    <tr style=\"text-align: right;\">\n",
       "      <th></th>\n",
       "      <th>id</th>\n",
       "      <th>name</th>\n",
       "      <th>upc</th>\n",
       "      <th>asin</th>\n",
       "      <th>elid</th>\n",
       "      <th>brand</th>\n",
       "      <th>model</th>\n",
       "      <th>color</th>\n",
       "      <th>tags</th>\n",
       "      <th>category</th>\n",
       "      <th>title</th>\n",
       "      <th>description</th>\n",
       "      <th>account</th>\n",
       "    </tr>\n",
       "  </thead>\n",
       "  <tbody>\n",
       "    <tr>\n",
       "      <th>0</th>\n",
       "      <td>(id, b'2puGrC5nHEndsfLjQ8GqXGrikaT')</td>\n",
       "      <td>(account, b'2puGqVPJ8acvaiBzY5kxcwZATLX')</td>\n",
       "      <td>(upc, 885909950805)</td>\n",
       "      <td>(asin, B00NQGOZV0)</td>\n",
       "      <td>(elid, 195389220744)</td>\n",
       "      <td>(brand, Apple)</td>\n",
       "      <td>(model, MG5A2LL/A)</td>\n",
       "      <td>(color, Space Gray)</td>\n",
       "      <td>(tags, ,,)</td>\n",
       "      <td>(category, Electronics &gt; Communications &gt; Tele...</td>\n",
       "      <td>(title, Apple iPhone 6, Space Gray, 64 GB (T-M...</td>\n",
       "      <td>(description, Display   Retina HD display 1334...</td>\n",
       "      <td>(name, Apple iPhone 6, Space Gray, 64 GB (T-Mo...</td>\n",
       "    </tr>\n",
       "  </tbody>\n",
       "</table>\n",
       "</div>"
      ],
      "text/plain": [
       "                                     id  \\\n",
       "0  (id, b'2puGrC5nHEndsfLjQ8GqXGrikaT')   \n",
       "\n",
       "                                        name                  upc  \\\n",
       "0  (account, b'2puGqVPJ8acvaiBzY5kxcwZATLX')  (upc, 885909950805)   \n",
       "\n",
       "                 asin                  elid           brand  \\\n",
       "0  (asin, B00NQGOZV0)  (elid, 195389220744)  (brand, Apple)   \n",
       "\n",
       "                model                color        tags  \\\n",
       "0  (model, MG5A2LL/A)  (color, Space Gray)  (tags, ,,)   \n",
       "\n",
       "                                            category  \\\n",
       "0  (category, Electronics > Communications > Tele...   \n",
       "\n",
       "                                               title  \\\n",
       "0  (title, Apple iPhone 6, Space Gray, 64 GB (T-M...   \n",
       "\n",
       "                                         description  \\\n",
       "0  (description, Display   Retina HD display 1334...   \n",
       "\n",
       "                                             account  \n",
       "0  (name, Apple iPhone 6, Space Gray, 64 GB (T-Mo...  "
      ]
     },
     "metadata": {},
     "output_type": "display_data"
    }
   ],
   "source": [
    "from dataset.product import lookup_product\n",
    "from dataset.ingestion import Ingestor\n",
    "import pandas as pd\n",
    "\n",
    "upc = '0885909950805'\n",
    "with Ingestor(connection.cursor(), device=device) as ingestor:\n",
    "\n",
    "    result = lookup_product(upc, ingestor=ingestor, save=True)\n",
    "    if result:\n",
    "        print(result)\n",
    "        display(pd.DataFrame([result], columns=[\"id\", \"name\", \"upc\",\"asin\",\"elid\",\"brand\",\"model\",\"color\",\"tags\",\"category\",\"title\",\"description\", \"account\"]))\n",
    "\n",
    "        # match with product[\"items\"][0][\"images\"] product similarity with pictures of the recording.\n",
    "        # print(number_matches, upc, item)"
   ]
  },
  {
   "cell_type": "code",
   "execution_count": 10,
   "metadata": {},
   "outputs": [
    {
     "name": "stderr",
     "output_type": "stream",
     "text": [
      "/opt/homebrew/Caskroom/miniconda/base/lib/python3.11/site-packages/sqlmodel/main.py:638: SAWarning: This declarative base already contains a class with the same class name and module name as dataset.db.products.Products, and will be replaced in the string-lookup table.\n",
      "  DeclarativeMeta.__init__(cls, classname, bases, dict_, **kw)\n",
      "[autoreload of dataset.db.products failed: Traceback (most recent call last):\n",
      "  File \"/opt/homebrew/Caskroom/miniconda/base/lib/python3.11/site-packages/IPython/extensions/autoreload.py\", line 276, in check\n",
      "    superreload(m, reload, self.old_objects)\n",
      "  File \"/opt/homebrew/Caskroom/miniconda/base/lib/python3.11/site-packages/IPython/extensions/autoreload.py\", line 475, in superreload\n",
      "    module = reload(module)\n",
      "             ^^^^^^^^^^^^^^\n",
      "  File \"/opt/homebrew/Caskroom/miniconda/base/lib/python3.11/importlib/__init__.py\", line 169, in reload\n",
      "    _bootstrap._exec(spec, module)\n",
      "  File \"<frozen importlib._bootstrap>\", line 621, in _exec\n",
      "  File \"<frozen importlib._bootstrap_external>\", line 940, in exec_module\n",
      "  File \"<frozen importlib._bootstrap>\", line 241, in _call_with_frames_removed\n",
      "  File \"/Volumes/Projects/Evidently/record-thing/dataset/db/products.py\", line 12, in <module>\n",
      "    class Products(SQLModel, table=True):\n",
      "  File \"/opt/homebrew/Caskroom/miniconda/base/lib/python3.11/site-packages/sqlmodel/main.py\", line 638, in __init__\n",
      "    DeclarativeMeta.__init__(cls, classname, bases, dict_, **kw)\n",
      "  File \"/opt/homebrew/Caskroom/miniconda/base/lib/python3.11/site-packages/sqlalchemy/orm/decl_api.py\", line 196, in __init__\n",
      "    _as_declarative(reg, cls, dict_)\n",
      "  File \"/opt/homebrew/Caskroom/miniconda/base/lib/python3.11/site-packages/sqlalchemy/orm/decl_base.py\", line 244, in _as_declarative\n",
      "    return _MapperConfig.setup_mapping(registry, cls, dict_, None, {})\n",
      "           ^^^^^^^^^^^^^^^^^^^^^^^^^^^^^^^^^^^^^^^^^^^^^^^^^^^^^^^^^^^\n",
      "sqlalchemy.exc.InvalidRequestError: Table 'products' is already defined for this MetaData instance.  Specify 'extend_existing=True' to redefine options and columns on an existing Table object.\n",
      "]\n"
     ]
    },
    {
     "data": {
      "text/plain": [
       "'clip_assets count: 1'"
      ]
     },
     "metadata": {},
     "output_type": "display_data"
    },
    {
     "data": {
      "text/html": [
       "<div>\n",
       "<style scoped>\n",
       "    .dataframe tbody tr th:only-of-type {\n",
       "        vertical-align: middle;\n",
       "    }\n",
       "\n",
       "    .dataframe tbody tr th {\n",
       "        vertical-align: top;\n",
       "    }\n",
       "\n",
       "    .dataframe thead th {\n",
       "        text-align: right;\n",
       "    }\n",
       "</style>\n",
       "<table border=\"1\" class=\"dataframe\">\n",
       "  <thead>\n",
       "    <tr style=\"text-align: right;\">\n",
       "      <th></th>\n",
       "      <th>id</th>\n",
       "      <th>name</th>\n",
       "      <th>upc</th>\n",
       "      <th>asin</th>\n",
       "      <th>elid</th>\n",
       "      <th>brand</th>\n",
       "      <th>model</th>\n",
       "      <th>color</th>\n",
       "      <th>tags</th>\n",
       "      <th>category</th>\n",
       "      <th>title</th>\n",
       "      <th>description</th>\n",
       "    </tr>\n",
       "  </thead>\n",
       "  <tbody>\n",
       "    <tr>\n",
       "      <th>0</th>\n",
       "      <td>b'2puGrC5nHEndsfLjQ8GqXGrikaT'</td>\n",
       "      <td>Apple iPhone 6, Space Gray, 64 GB (T-Mobile)</td>\n",
       "      <td>885909950805</td>\n",
       "      <td>B00NQGOZV0</td>\n",
       "      <td>195389220744</td>\n",
       "      <td>Apple</td>\n",
       "      <td>MG5A2LL/A</td>\n",
       "      <td>Space Gray</td>\n",
       "      <td>,,</td>\n",
       "      <td>Electronics &gt; Communications &gt; Telephony &gt; Mob...</td>\n",
       "      <td>Apple iPhone 6, Space Gray, 64 GB (T-Mobile)</td>\n",
       "      <td>Display   Retina HD display 1334-by-750-pixel ...</td>\n",
       "    </tr>\n",
       "  </tbody>\n",
       "</table>\n",
       "</div>"
      ],
      "text/plain": [
       "                               id  \\\n",
       "0  b'2puGrC5nHEndsfLjQ8GqXGrikaT'   \n",
       "\n",
       "                                           name           upc        asin  \\\n",
       "0  Apple iPhone 6, Space Gray, 64 GB (T-Mobile)  885909950805  B00NQGOZV0   \n",
       "\n",
       "           elid  brand      model       color tags  \\\n",
       "0  195389220744  Apple  MG5A2LL/A  Space Gray   ,,   \n",
       "\n",
       "                                            category  \\\n",
       "0  Electronics > Communications > Telephony > Mob...   \n",
       "\n",
       "                                          title  \\\n",
       "0  Apple iPhone 6, Space Gray, 64 GB (T-Mobile)   \n",
       "\n",
       "                                         description  \n",
       "0  Display   Retina HD display 1334-by-750-pixel ...  "
      ]
     },
     "metadata": {},
     "output_type": "display_data"
    }
   ],
   "source": [
    "import pandas as pd\n",
    "\n",
    "db = connection\n",
    "\n",
    "# with connection.cursor() as cursor:\n",
    "count = db.execute(\n",
    "\"\"\"\n",
    "  SELECT COUNT(*) FROM products\n",
    "\"\"\"\n",
    "        ).fetchone()\n",
    "\n",
    "display(f\"clip_assets count: {count[0]}\")\n",
    "\n",
    "rows = db.execute(\n",
    "    \"\"\"\n",
    "      SELECT id, name, upc, asin, elid, brand, model, color, tags, category, title, description FROM products\n",
    "      LIMIT 30\n",
    "    \"\"\"\n",
    "    ).fetchall()\n",
    "\n",
    "\n",
    "display(pd.DataFrame(rows, columns=[\"id\", \"name\", \"upc\",\"asin\",\"elid\",\"brand\",\"model\",\"color\",\"tags\",\"category\",\"title\",\"description\"]))\n"
   ]
  },
  {
   "cell_type": "markdown",
   "metadata": {},
   "source": []
  },
  {
   "cell_type": "code",
   "execution_count": 8,
   "metadata": {},
   "outputs": [],
   "source": [
    "from typing import Sequence\n",
    "import torch\n",
    "import requests\n",
    "\n",
    "def generate_embedding(image: bytes) -> torch.Tensor:\n",
    "    # dino.\n",
    "    pass\n",
    "\n",
    "def get_images(image_urls: Sequence[str]) -> Sequence[bytes]:\n",
    "    images: Sequence[bytes] = [requests.get(url).content for url in image_urls]\n",
    "    embeddings: Sequence[torch.Tensor] = [generate_embedding(image) for image in images]"
   ]
  },
  {
   "cell_type": "markdown",
   "metadata": {},
   "source": []
  }
 ],
 "metadata": {
  "kernelspec": {
   "display_name": "base",
   "language": "python",
   "name": "python3"
  },
  "language_info": {
   "codemirror_mode": {
    "name": "ipython",
    "version": 3
   },
   "file_extension": ".py",
   "mimetype": "text/x-python",
   "name": "python",
   "nbconvert_exporter": "python",
   "pygments_lexer": "ipython3",
   "version": "3.11.8"
  }
 },
 "nbformat": 4,
 "nbformat_minor": 2
}
