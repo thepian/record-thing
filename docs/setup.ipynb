{
 "cells": [
  {
   "cell_type": "code",
   "execution_count": 1,
   "metadata": {},
   "outputs": [],
   "source": [
    "%reload_ext autoreload\n",
    "%autoreload 2"
   ]
  },
  {
   "cell_type": "markdown",
   "metadata": {},
   "source": [
    "We'll add the project to PYTHON_PATH so we can import the modules from the project."
   ]
  },
  {
   "cell_type": "code",
   "execution_count": 2,
   "metadata": {},
   "outputs": [
    {
     "data": {
      "text/plain": [
       "['/Volumes/Projects 1/Evidently/record-thing',\n",
       " '/opt/homebrew/Caskroom/miniconda/base/lib/python311.zip',\n",
       " '/opt/homebrew/Caskroom/miniconda/base/lib/python3.11',\n",
       " '/opt/homebrew/Caskroom/miniconda/base/lib/python3.11/lib-dynload',\n",
       " '',\n",
       " '/opt/homebrew/Caskroom/miniconda/base/lib/python3.11/site-packages']"
      ]
     },
     "execution_count": 2,
     "metadata": {},
     "output_type": "execute_result"
    }
   ],
   "source": [
    "import sys, os\n",
    "proj = os.path.dirname(os.getcwd())\n",
    "if proj not in sys.path:\n",
    "    sys.path.insert(0, proj)\n",
    "sys.path"
   ]
  },
  {
   "cell_type": "markdown",
   "metadata": {},
   "source": [
    "In case we use PyTorch, we'll need to have a `device` variable to handle the device where the model will be trained.\n",
    "MPS support is commented out as it isn't fully supported in the DINO model that we use."
   ]
  },
  {
   "cell_type": "code",
   "execution_count": 3,
   "metadata": {},
   "outputs": [],
   "source": [
    "# Device independent code\n",
    "import torch\n",
    "\n",
    "device = \"cpu\" \n",
    "if torch.cuda.is_available():\n",
    "    device = \"cuda\"\n",
    "# if torch.backends.mps.is_available:\n",
    "#     device = torch.device(\"mps\")\n",
    "torch.device(device)\n",
    "torch.set_default_device(device=device)\n",
    "\n",
    "os.environ[\"PYTORCH_ENABLE_MPS_FALLBACK\"] = \"1\""
   ]
  },
  {
   "cell_type": "markdown",
   "metadata": {},
   "source": [
    "### RQL Server"
   ]
  },
  {
   "cell_type": "markdown",
   "metadata": {},
   "source": [
    "The RQL server is started in the background within a Docker container."
   ]
  },
  {
   "cell_type": "code",
   "execution_count": 4,
   "metadata": {},
   "outputs": [
    {
     "name": "stdout",
     "output_type": "stream",
     "text": [
      "/Users/henrikvendelbo/.zshenv:.:1: no such file or directory: /Users/henrikvendelbo/.cargo/env\n",
      "\u001b[1A\u001b[1B\u001b[0G\u001b[?25l[+] Running 1/0\n",
      " \u001b[32m✔\u001b[0m Container rqlite_server  \u001b[32mRunning\u001b[0m                                        \u001b[34m0.0s \u001b[0m\n",
      "\u001b[?25h"
     ]
    }
   ],
   "source": [
    "!docker compose up -d"
   ]
  },
  {
   "cell_type": "code",
   "execution_count": 5,
   "metadata": {},
   "outputs": [
    {
     "name": "stdout",
     "output_type": "stream",
     "text": [
      "/Users/henrikvendelbo/.zshenv:.:1: no such file or directory: /Users/henrikvendelbo/.cargo/env\n",
      "{\"build\":{\"branch\":\"master\",\"build_time\":\"\",\"commit\":\"8cea072605b6accbfc1607553011d33ef7bb6f87\",\"compiler_command\":\"musl-gcc\",\"compiler_toolchain\":\"gc\",\"version\":\"v8.34.1\"},\"cluster\":{\"addr\":\"bfad3c2a7d3d:4002\",\"api_addr\":\"bfad3c2a7d3d:4001\",\"https\":\"false\"},\"extensions\":{\"dir\":\"/rqlite/file/data/extensions\",\"names\":[\"icu.so\",\"sqlean.so\",\"vec0.so\"]},\"http\":{\"auth\":\"enabled\",\"bind_addr\":\"[::]:4001\",\"cluster\":{\"local_node_addr\":\"bfad3c2a7d3d:4002\",\"timeout\":\"30s\"},\"queue\":{\"_default\":{\"batch_size\":128,\"max_size\":1024,\"sequence_number\":0,\"timeout\":\"50ms\"}},\"tls\":{\"enabled\":\"false\"}},\"mux\":{\"addr\":\"bfad3c2a7d3d:4002\",\"handlers\":\"\\u0001\\u0002\",\"timeout\":\"30s\",\"tls\":\"disabled\"},\"network\":{\"interfaces\":{\"eth0\":{\"flags\":\"up|broadcast|multicast|running\",\"hardware_address\":\"02:42:ac:12:00:02\",\"addresses\":[{\"address\":\"172.18.0.2/16\"}]},\"ip6tnl0\":{\"flags\":\"0\",\"hardware_address\":\"\",\"addresses\":null},\"lo\":{\"flags\":\"up|loopback|running\",\"hardware_address\":\"\",\"addresses\":[{\"address\":\"127.0.0.1/8\"}]},\"tunl0\":{\"flags\":\"0\",\"hardware_address\":\"\",\"addresses\":null}}},\"node\":{\"current_time\":\"2024-12-02T21:37:23.692140128Z\",\"start_time\":\"2024-12-02T21:19:30.784103048Z\",\"uptime\":\"17m52.904310074s\"},\"os\":{\"executable\":\"/bin/rqlited\",\"hostname\":\"bfad3c2a7d3d\",\"page_size\":4096,\"pid\":1,\"ppid\":0},\"runtime\":{\"GOARCH\":\"arm64\",\"GOMAXPROCS\":4,\"GOOS\":\"linux\",\"num_cpu\":4,\"num_goroutine\":22,\"version\":\"go1.23.3\"},\"store\":{\"addr\":\"bfad3c2a7d3d:4002\",\"apply_timeout\":\"10s\",\"db_applied_index\":0,\"db_conf\":{\"fk_constraints\":false,\"extensions\":[\"/rqlite/file/data/extensions/icu.so\",\"/rqlite/file/data/extensions/sqlean.so\",\"/rqlite/file/data/extensions/vec0.so\"]},\"dir\":\"/rqlite/file/data\",\"dir_size\":1293196,\"dir_size_friendly\":\"1.3 MB\",\"election_timeout\":\"1s\",\"fsm_index\":0,\"fsm_term\":0,\"fsm_update_time\":\"0001-01-01T00:00:00Z\",\"heartbeat_timeout\":\"1s\",\"leader\":{\"addr\":\"\",\"node_id\":\"\"},\"leader_appended_at_time\":\"0001-01-01T00:00:00Z\",\"no_freelist_sync\":false,\"node_id\":\"bfad3c2a7d3d\",\"nodes\":[{\"id\":\"1\",\"addr\":\"localhost:4002\",\"suffrage\":\"Voter\"}],\"observer\":{\"dropped\":0,\"observed\":0},\"open\":{},\"raft\":{\"applied_index\":0,\"bolt\":{\"TxStats\":{\"PageCount\":9,\"PageAlloc\":147456,\"CursorCount\":220,\"NodeCount\":8,\"NodeDeref\":0,\"Rebalance\":0,\"RebalanceTime\":0,\"Split\":0,\"Spill\":4,\"SpillTime\":23708,\"Write\":14,\"WriteTime\":8049043},\"FreePageN\":1,\"PendingPageN\":2,\"FreeAlloc\":49152,\"FreelistInuse\":40,\"TxN\":102,\"OpenTxN\":0},\"commit_index\":0,\"fsm_pending\":0,\"last_contact\":\"never\",\"last_log_index\":22,\"last_log_term\":3,\"last_snapshot_index\":0,\"last_snapshot_term\":0,\"latest_configuration\":\"[{Suffrage:Voter ID:1 Address:localhost:4002}]\",\"latest_configuration_index\":0,\"log_size\":262144,\"num_peers\":0,\"protocol_version\":3,\"protocol_version_max\":3,\"protocol_version_min\":0,\"snapshot_version_max\":1,\"snapshot_version_min\":0,\"state\":\"Follower\",\"term\":3,\"transport\":{\"command_commit_index\":0,\"leader_commit_index\":0},\"voter\":false},\"ready\":false,\"reap_read_only_timeout\":\"0s\",\"reap_timeout\":\"0s\",\"request_marshaler\":{\"compression_batch\":50,\"compression_size\":1024,\"force_compression\":false},\"snapshot_cas\":{\"owner\":null},\"snapshot_interval\":\"10s\",\"snapshot_store\":{\"db_path\":\"\",\"dir\":\"/rqlite/file/data/rsnapshots\",\"snapshots\":[]},\"snapshot_threshold\":8192,\"sqlite3\":{\"compile_options\":[\"ATOMIC_INTRINSICS=1\",\"COMPILER=gcc-13.2.1 20240309\",\"DEFAULT_AUTOVACUUM\",\"DEFAULT_CACHE_SIZE=-2000\",\"DEFAULT_FILE_FORMAT=4\",\"DEFAULT_JOURNAL_SIZE_LIMIT=-1\",\"DEFAULT_MMAP_SIZE=0\",\"DEFAULT_PAGE_SIZE=4096\",\"DEFAULT_PCACHE_INITSZ=20\",\"DEFAULT_RECURSIVE_TRIGGERS\",\"DEFAULT_SECTOR_SIZE=4096\",\"DEFAULT_SYNCHRONOUS=2\",\"DEFAULT_WAL_AUTOCHECKPOINT=1000\",\"DEFAULT_WAL_SYNCHRONOUS=1\",\"DEFAULT_WORKER_THREADS=0\",\"DIRECT_OVERFLOW_READ\",\"ENABLE_DBSTAT_VTAB\",\"ENABLE_FTS3\",\"ENABLE_FTS3_PARENTHESIS\",\"ENABLE_FTS5\",\"ENABLE_GEOPOLY\",\"ENABLE_RTREE\",\"ENABLE_UPDATE_DELETE_LIMIT\",\"MALLOC_SOFT_LIMIT=1024\",\"MAX_ATTACHED=10\",\"MAX_COLUMN=2000\",\"MAX_COMPOUND_SELECT=500\",\"MAX_DEFAULT_PAGE_SIZE=8192\",\"MAX_EXPR_DEPTH=1000\",\"MAX_FUNCTION_ARG=127\",\"MAX_LENGTH=1000000000\",\"MAX_LIKE_PATTERN_LENGTH=50000\",\"MAX_MMAP_SIZE=0x7fff0000\",\"MAX_PAGE_COUNT=0xfffffffe\",\"MAX_PAGE_SIZE=65536\",\"MAX_SQL_LENGTH=1000000000\",\"MAX_TRIGGER_DEPTH=1000\",\"MAX_VARIABLE_NUMBER=32766\",\"MAX_VDBE_OP=250000000\",\"MAX_WORKER_THREADS=8\",\"MUTEX_PTHREADS\",\"OMIT_DEPRECATED\",\"OMIT_SHARED_CACHE\",\"SYSTEM_MALLOC\",\"TEMP_STORE=1\",\"THREADSAFE=1\"],\"conn_pool_stats\":{\"ro\":{\"max_open_connections\":0,\"open_connections\":1,\"in_use\":0,\"idle\":1,\"wait_count\":0,\"wait_duration\":0,\"max_idle_closed\":0,\"max_idle_time_closed\":1,\"max_lifetime_closed\":0},\"rw\":{\"max_open_connections\":1,\"open_connections\":1,\"in_use\":0,\"idle\":1,\"wait_count\":0,\"wait_duration\":0,\"max_idle_closed\":0,\"max_idle_time_closed\":0,\"max_lifetime_closed\":0}},\"db_size\":12288,\"db_size_friendly\":\"12 kB\",\"extensions\":[\"icu.so\",\"sqlean.so\",\"vec0.so\"],\"last_modified\":\"2024-12-02T21:19:30.824040848Z\",\"mem_stats\":{\"cache_size\":-2000,\"freelist_count\":0,\"hard_heap_limit\":0,\"max_page_count\":4294967294,\"page_count\":3,\"page_size\":4096,\"soft_heap_limit\":0},\"path\":\"/rqlite/file/data/db.sqlite\",\"pragmas\":{\"ro\":{\"busy_timeout\":\"5000\",\"foreign_keys\":\"0\",\"journal_mode\":\"wal\",\"synchronous\":\"0\",\"wal_autocheckpoint\":\"1000\"},\"rw\":{\"busy_timeout\":\"5000\",\"foreign_keys\":\"0\",\"journal_mode\":\"wal\",\"synchronous\":\"0\",\"wal_autocheckpoint\":\"0\"}},\"ro_dsn\":\"file:/rqlite/file/data/db.sqlite?_fk=false\\u0026_journal=WAL\\u0026_sync=0\\u0026mode=ro\",\"rw_dsn\":\"file:/rqlite/file/data/db.sqlite?_fk=false\\u0026_journal=WAL\\u0026_sync=0\",\"size\":4096,\"version\":\"3.46.1\",\"wal_size\":12392},\"strong_read_term\":0,\"trailing_logs\":10240}}"
     ]
    }
   ],
   "source": [
    "!curl 127.0.0.1:4001/status"
   ]
  },
  {
   "cell_type": "code",
   "execution_count": 10,
   "metadata": {},
   "outputs": [],
   "source": [
    "# from dataset.models import ClipAsset, Account\n",
    "from dataset.rql import init_db, connection\n",
    "\n",
    "init_db(disconnect=False)"
   ]
  },
  {
   "cell_type": "markdown",
   "metadata": {},
   "source": [
    "Inspecting data"
   ]
  },
  {
   "cell_type": "markdown",
   "metadata": {},
   "source": [
    "### Account"
   ]
  },
  {
   "cell_type": "code",
   "execution_count": 14,
   "metadata": {},
   "outputs": [
    {
     "data": {
      "text/plain": [
       "'account count: 1'"
      ]
     },
     "metadata": {},
     "output_type": "display_data"
    },
    {
     "data": {
      "text/plain": [
       "'commons.account_id:'"
      ]
     },
     "metadata": {},
     "output_type": "display_data"
    },
    {
     "data": {
      "text/plain": [
       "b'2pg7CwH6RrdHuvtY1Z3lsDuBVSV'"
      ]
     },
     "metadata": {},
     "output_type": "display_data"
    },
    {
     "data": {
      "text/html": [
       "<div>\n",
       "<style scoped>\n",
       "    .dataframe tbody tr th:only-of-type {\n",
       "        vertical-align: middle;\n",
       "    }\n",
       "\n",
       "    .dataframe tbody tr th {\n",
       "        vertical-align: top;\n",
       "    }\n",
       "\n",
       "    .dataframe thead th {\n",
       "        text-align: right;\n",
       "    }\n",
       "</style>\n",
       "<table border=\"1\" class=\"dataframe\">\n",
       "  <thead>\n",
       "    <tr style=\"text-align: right;\">\n",
       "      <th></th>\n",
       "      <th>id</th>\n",
       "      <th>name</th>\n",
       "      <th>email</th>\n",
       "      <th>sms</th>\n",
       "      <th>region</th>\n",
       "    </tr>\n",
       "  </thead>\n",
       "  <tbody>\n",
       "    <tr>\n",
       "      <th>0</th>\n",
       "      <td>2pg7CwH6RrdHuvtY1Z3lsDuBVSV</td>\n",
       "      <td>Joe Schmoe</td>\n",
       "      <td>None</td>\n",
       "      <td>None</td>\n",
       "      <td>None</td>\n",
       "    </tr>\n",
       "  </tbody>\n",
       "</table>\n",
       "</div>"
      ],
      "text/plain": [
       "                            id        name email   sms region\n",
       "0  2pg7CwH6RrdHuvtY1Z3lsDuBVSV  Joe Schmoe  None  None   None"
      ]
     },
     "metadata": {},
     "output_type": "display_data"
    }
   ],
   "source": [
    "from dataset.rql import connection\n",
    "from dataset.commons import commons\n",
    "import pandas as pd\n",
    "\n",
    "with connection.cursor() as cursor:\n",
    "    count = cursor.execute(\n",
    "    \"\"\"\n",
    "      SELECT COUNT(*) FROM accounts\n",
    "    \"\"\"\n",
    "            ).fetchone()\n",
    "\n",
    "    display(f\"account count: {count[0]}\")\n",
    "\n",
    "    rows = cursor.execute(\n",
    "    \"\"\"\n",
    "      SELECT id, name, email, sms, region FROM accounts\n",
    "      LIMIT 30\n",
    "    \"\"\"\n",
    "            ).fetchall()\n",
    "    \n",
    "    display(\"commons.account_id:\", commons['account_id'])\n",
    "    display(pd.DataFrame(rows, columns=[\"id\", \"name\", \"email\", \"sms\", \"region\"]))"
   ]
  },
  {
   "cell_type": "markdown",
   "metadata": {},
   "source": [
    "### Clip Assets"
   ]
  },
  {
   "cell_type": "code",
   "execution_count": 11,
   "metadata": {},
   "outputs": [
    {
     "data": {
      "text/plain": [
       "'clip_assets count: 0'"
      ]
     },
     "metadata": {},
     "output_type": "display_data"
    },
    {
     "data": {
      "text/html": [
       "<div>\n",
       "<style scoped>\n",
       "    .dataframe tbody tr th:only-of-type {\n",
       "        vertical-align: middle;\n",
       "    }\n",
       "\n",
       "    .dataframe tbody tr th {\n",
       "        vertical-align: top;\n",
       "    }\n",
       "\n",
       "    .dataframe thead th {\n",
       "        text-align: right;\n",
       "    }\n",
       "</style>\n",
       "<table border=\"1\" class=\"dataframe\">\n",
       "  <thead>\n",
       "    <tr style=\"text-align: right;\">\n",
       "      <th></th>\n",
       "      <th>embedding</th>\n",
       "      <th>distance</th>\n",
       "      <th>name</th>\n",
       "    </tr>\n",
       "  </thead>\n",
       "  <tbody>\n",
       "  </tbody>\n",
       "</table>\n",
       "</div>"
      ],
      "text/plain": [
       "Empty DataFrame\n",
       "Columns: [embedding, distance, name]\n",
       "Index: []"
      ]
     },
     "metadata": {},
     "output_type": "display_data"
    }
   ],
   "source": [
    "from dataset.rql import connection\n",
    "import pandas as pd\n",
    "\n",
    "with connection.cursor() as cursor:\n",
    "    count = cursor.execute(\n",
    "    \"\"\"\n",
    "      SELECT COUNT(*) FROM clip_assets\n",
    "    \"\"\"\n",
    "            ).fetchone()\n",
    "\n",
    "    display(f\"clip_assets count: {count[0]}\")\n",
    "\n",
    "    rows = cursor.execute(\n",
    "    \"\"\"\n",
    "      SELECT clip_assets.id, clip_assets.name FROM clip_assets\n",
    "      INNER JOIN dino_embedding ON dino_embedding.asset_id = clip_assets.id\n",
    "      LIMIT 30\n",
    "    \"\"\"\n",
    "            ).fetchall()\n",
    "\n",
    "\n",
    "    display(pd.DataFrame(rows, columns=[\"embedding\", \"distance\", \"name\"]))"
   ]
  },
  {
   "cell_type": "markdown",
   "metadata": {},
   "source": []
  }
 ],
 "metadata": {
  "kernelspec": {
   "display_name": "base",
   "language": "python",
   "name": "python3"
  },
  "language_info": {
   "codemirror_mode": {
    "name": "ipython",
    "version": 3
   },
   "file_extension": ".py",
   "mimetype": "text/x-python",
   "name": "python",
   "nbconvert_exporter": "python",
   "pygments_lexer": "ipython3",
   "version": "3.11.8"
  }
 },
 "nbformat": 4,
 "nbformat_minor": 2
}
