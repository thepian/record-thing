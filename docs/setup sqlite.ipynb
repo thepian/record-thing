{
 "cells": [
  {
   "cell_type": "code",
   "execution_count": 1,
   "metadata": {},
   "outputs": [],
   "source": [
    "%reload_ext autoreload\n",
    "%autoreload 2"
   ]
  },
  {
   "cell_type": "markdown",
   "metadata": {},
   "source": [
    "We'll add the project to PYTHON_PATH so we can import the modules from the project."
   ]
  },
  {
   "cell_type": "code",
   "execution_count": 2,
   "metadata": {},
   "outputs": [
    {
     "data": {
      "text/plain": [
       "['/Volumes/Projects/Evidently/record-thing',\n",
       " '/opt/homebrew/Caskroom/miniconda/base/lib/python311.zip',\n",
       " '/opt/homebrew/Caskroom/miniconda/base/lib/python3.11',\n",
       " '/opt/homebrew/Caskroom/miniconda/base/lib/python3.11/lib-dynload',\n",
       " '',\n",
       " '/opt/homebrew/Caskroom/miniconda/base/lib/python3.11/site-packages']"
      ]
     },
     "execution_count": 2,
     "metadata": {},
     "output_type": "execute_result"
    }
   ],
   "source": [
    "import sys, os\n",
    "proj = os.path.dirname(os.getcwd())\n",
    "if proj not in sys.path:\n",
    "    sys.path.insert(0, proj)\n",
    "sys.path"
   ]
  },
  {
   "cell_type": "markdown",
   "metadata": {},
   "source": [
    "In case we use PyTorch, we'll need to have a `device` variable to handle the device where the model will be trained.\n",
    "MPS support is commented out as it isn't fully supported in the DINO model that we use."
   ]
  },
  {
   "cell_type": "code",
   "execution_count": 3,
   "metadata": {},
   "outputs": [],
   "source": [
    "# Device independent code\n",
    "import torch\n",
    "\n",
    "device = \"cpu\" \n",
    "if torch.cuda.is_available():\n",
    "    device = \"cuda\"\n",
    "# if torch.backends.mps.is_available:\n",
    "#     device = torch.device(\"mps\")\n",
    "torch.device(device)\n",
    "torch.set_default_device(device=device)\n",
    "\n",
    "os.environ[\"PYTORCH_ENABLE_MPS_FALLBACK\"] = \"1\""
   ]
  },
  {
   "cell_type": "markdown",
   "metadata": {},
   "source": [
    "### Local SQLite"
   ]
  },
  {
   "cell_type": "markdown",
   "metadata": {},
   "source": [
    "The sqlite database is created locally."
   ]
  },
  {
   "cell_type": "code",
   "execution_count": 5,
   "metadata": {},
   "outputs": [
    {
     "name": "stderr",
     "output_type": "stream",
     "text": [
      "Downloading: \"https://github.com/facebookresearch/dinov2/zipball/main\" to /Volumes/Projects/Evidently/record-thing/dataset/.cache/torch/hub/main.zip\n",
      "/Volumes/Projects/Evidently/record-thing/dataset/.cache/torch/hub/facebookresearch_dinov2_main/dinov2/layers/swiglu_ffn.py:51: UserWarning: xFormers is not available (SwiGLU)\n",
      "  warnings.warn(\"xFormers is not available (SwiGLU)\")\n",
      "/Volumes/Projects/Evidently/record-thing/dataset/.cache/torch/hub/facebookresearch_dinov2_main/dinov2/layers/attention.py:33: UserWarning: xFormers is not available (Attention)\n",
      "  warnings.warn(\"xFormers is not available (Attention)\")\n",
      "/Volumes/Projects/Evidently/record-thing/dataset/.cache/torch/hub/facebookresearch_dinov2_main/dinov2/layers/block.py:40: UserWarning: xFormers is not available (Block)\n",
      "  warnings.warn(\"xFormers is not available (Block)\")\n",
      "Downloading: \"https://dl.fbaipublicfiles.com/dinov2/dinov2_vits14/dinov2_vits14_pretrain.pth\" to /Volumes/Projects/Evidently/record-thing/dataset/.cache/torch/hub/checkpoints/dinov2_vits14_pretrain.pth\n",
      "100%|██████████| 84.2M/84.2M [00:01<00:00, 59.7MB/s]\n"
     ]
    }
   ],
   "source": [
    "from dataset.ingestion import Ingestor\n",
    "from dataset.db import init_db_sqlite\n",
    "\n",
    "db = init_db_sqlite() # \"data/processed/processed.db\")\n",
    "# cursor = db.cursor()\n",
    "# ingestor = Ingestor(cursor, device=device)"
   ]
  },
  {
   "cell_type": "markdown",
   "metadata": {},
   "source": [
    "Inspecting data"
   ]
  },
  {
   "cell_type": "markdown",
   "metadata": {},
   "source": [
    "### Account"
   ]
  },
  {
   "cell_type": "code",
   "execution_count": 6,
   "metadata": {},
   "outputs": [
    {
     "data": {
      "text/plain": [
       "'account count: 1'"
      ]
     },
     "metadata": {},
     "output_type": "display_data"
    },
    {
     "data": {
      "text/plain": [
       "'commons.account_id:'"
      ]
     },
     "metadata": {},
     "output_type": "display_data"
    },
    {
     "data": {
      "text/plain": [
       "b'2pu3XUc2drnmUcLFWvbcAJAbcXB'"
      ]
     },
     "metadata": {},
     "output_type": "display_data"
    },
    {
     "data": {
      "text/html": [
       "<div>\n",
       "<style scoped>\n",
       "    .dataframe tbody tr th:only-of-type {\n",
       "        vertical-align: middle;\n",
       "    }\n",
       "\n",
       "    .dataframe tbody tr th {\n",
       "        vertical-align: top;\n",
       "    }\n",
       "\n",
       "    .dataframe thead th {\n",
       "        text-align: right;\n",
       "    }\n",
       "</style>\n",
       "<table border=\"1\" class=\"dataframe\">\n",
       "  <thead>\n",
       "    <tr style=\"text-align: right;\">\n",
       "      <th></th>\n",
       "      <th>id</th>\n",
       "      <th>name</th>\n",
       "      <th>email</th>\n",
       "      <th>sms</th>\n",
       "      <th>region</th>\n",
       "    </tr>\n",
       "  </thead>\n",
       "  <tbody>\n",
       "    <tr>\n",
       "      <th>0</th>\n",
       "      <td>b'2pu3XUc2drnmUcLFWvbcAJAbcXB'</td>\n",
       "      <td>Joe Schmoe</td>\n",
       "      <td>None</td>\n",
       "      <td>None</td>\n",
       "      <td>None</td>\n",
       "    </tr>\n",
       "  </tbody>\n",
       "</table>\n",
       "</div>"
      ],
      "text/plain": [
       "                               id        name email   sms region\n",
       "0  b'2pu3XUc2drnmUcLFWvbcAJAbcXB'  Joe Schmoe  None  None   None"
      ]
     },
     "metadata": {},
     "output_type": "display_data"
    }
   ],
   "source": [
    "from dataset.commons import commons\n",
    "import pandas as pd\n",
    "\n",
    "# with db.cursor() as cursor:\n",
    "count = db.execute(\n",
    "\"\"\"\n",
    "  SELECT COUNT(*) FROM accounts\n",
    "\"\"\"\n",
    "        ).fetchone()\n",
    "\n",
    "display(f\"account count: {count[0]}\")\n",
    "\n",
    "rows = db.execute(\n",
    "\"\"\"\n",
    "  SELECT id, name, email, sms, region FROM accounts\n",
    "  LIMIT 30\n",
    "\"\"\"\n",
    "        ).fetchall()\n",
    "  \n",
    "display(\"commons.account_id:\", commons['account_id'])\n",
    "display(pd.DataFrame(rows, columns=[\"id\", \"name\", \"email\", \"sms\", \"region\"]))"
   ]
  },
  {
   "cell_type": "markdown",
   "metadata": {},
   "source": [
    "### Clip Assets"
   ]
  },
  {
   "cell_type": "code",
   "execution_count": null,
   "metadata": {},
   "outputs": [
    {
     "data": {
      "text/plain": [
       "'clip_assets count: 0'"
      ]
     },
     "metadata": {},
     "output_type": "display_data"
    },
    {
     "data": {
      "text/html": [
       "<div>\n",
       "<style scoped>\n",
       "    .dataframe tbody tr th:only-of-type {\n",
       "        vertical-align: middle;\n",
       "    }\n",
       "\n",
       "    .dataframe tbody tr th {\n",
       "        vertical-align: top;\n",
       "    }\n",
       "\n",
       "    .dataframe thead th {\n",
       "        text-align: right;\n",
       "    }\n",
       "</style>\n",
       "<table border=\"1\" class=\"dataframe\">\n",
       "  <thead>\n",
       "    <tr style=\"text-align: right;\">\n",
       "      <th></th>\n",
       "      <th>embedding</th>\n",
       "      <th>distance</th>\n",
       "      <th>name</th>\n",
       "    </tr>\n",
       "  </thead>\n",
       "  <tbody>\n",
       "  </tbody>\n",
       "</table>\n",
       "</div>"
      ],
      "text/plain": [
       "Empty DataFrame\n",
       "Columns: [embedding, distance, name]\n",
       "Index: []"
      ]
     },
     "metadata": {},
     "output_type": "display_data"
    }
   ],
   "source": [
    "import pandas as pd\n",
    "\n",
    "# with connection.cursor() as cursor:\n",
    "count = db.execute(\n",
    "\"\"\"\n",
    "  SELECT COUNT(*) FROM clip_assets\n",
    "\"\"\"\n",
    "        ).fetchone()\n",
    "\n",
    "display(f\"clip_assets count: {count[0]}\")\n",
    "\n",
    "rows = db.execute(\n",
    "\"\"\"\n",
    "  SELECT clip_assets.id, clip_assets.name FROM clip_assets\n",
    "  INNER JOIN dino_embedding ON dino_embedding.asset_id = clip_assets.id\n",
    "  LIMIT 30\n",
    "\"\"\"\n",
    "        ).fetchall()\n",
    "\n",
    "\n",
    "display(pd.DataFrame(rows, columns=[\"embedding\", \"distance\", \"name\"]))"
   ]
  },
  {
   "cell_type": "markdown",
   "metadata": {},
   "source": [
    "### Products"
   ]
  },
  {
   "cell_type": "code",
   "execution_count": null,
   "metadata": {},
   "outputs": [
    {
     "data": {
      "text/plain": [
       "'clip_assets count: 0'"
      ]
     },
     "metadata": {},
     "output_type": "display_data"
    },
    {
     "data": {
      "text/html": [
       "<div>\n",
       "<style scoped>\n",
       "    .dataframe tbody tr th:only-of-type {\n",
       "        vertical-align: middle;\n",
       "    }\n",
       "\n",
       "    .dataframe tbody tr th {\n",
       "        vertical-align: top;\n",
       "    }\n",
       "\n",
       "    .dataframe thead th {\n",
       "        text-align: right;\n",
       "    }\n",
       "</style>\n",
       "<table border=\"1\" class=\"dataframe\">\n",
       "  <thead>\n",
       "    <tr style=\"text-align: right;\">\n",
       "      <th></th>\n",
       "      <th>id</th>\n",
       "      <th>upc</th>\n",
       "      <th>asin</th>\n",
       "      <th>elid</th>\n",
       "      <th>brand</th>\n",
       "      <th>model</th>\n",
       "      <th>color</th>\n",
       "      <th>tags</th>\n",
       "      <th>category</th>\n",
       "      <th>title</th>\n",
       "      <th>description</th>\n",
       "      <th>name</th>\n",
       "    </tr>\n",
       "  </thead>\n",
       "  <tbody>\n",
       "  </tbody>\n",
       "</table>\n",
       "</div>"
      ],
      "text/plain": [
       "Empty DataFrame\n",
       "Columns: [id, upc, asin, elid, brand, model, color, tags, category, title, description, name]\n",
       "Index: []"
      ]
     },
     "metadata": {},
     "output_type": "display_data"
    }
   ],
   "source": [
    "import pandas as pd\n",
    "\n",
    "# with connection.cursor() as cursor:\n",
    "count = db.execute(\n",
    "\"\"\"\n",
    "  SELECT COUNT(*) FROM products\n",
    "\"\"\"\n",
    "        ).fetchone()\n",
    "\n",
    "display(f\"clip_assets count: {count[0]}\")\n",
    "\n",
    "rows = db.execute(\n",
    "    \"\"\"\n",
    "      SELECT id, name, upc, asin, elid, brand, model, color, tags, category, title, description FROM products\n",
    "      LIMIT 30\n",
    "    \"\"\"\n",
    "    ).fetchall()\n",
    "\n",
    "\n",
    "display(pd.DataFrame(rows, columns=[\"id\", \"name\", \"upc\",\"asin\",\"elid\",\"brand\",\"model\",\"color\",\"tags\",\"category\",\"title\",\"description\"]))\n"
   ]
  },
  {
   "cell_type": "markdown",
   "metadata": {},
   "source": []
  }
 ],
 "metadata": {
  "kernelspec": {
   "display_name": "base",
   "language": "python",
   "name": "python3"
  },
  "language_info": {
   "codemirror_mode": {
    "name": "ipython",
    "version": 3
   },
   "file_extension": ".py",
   "mimetype": "text/x-python",
   "name": "python",
   "nbconvert_exporter": "python",
   "pygments_lexer": "ipython3",
   "version": "3.11.8"
  }
 },
 "nbformat": 4,
 "nbformat_minor": 2
}
