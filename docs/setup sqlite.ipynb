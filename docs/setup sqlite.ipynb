{
 "cells": [
  {
   "cell_type": "code",
   "execution_count": 1,
   "metadata": {},
   "outputs": [],
   "source": [
    "%reload_ext autoreload\n",
    "%autoreload 2"
   ]
  },
  {
   "cell_type": "markdown",
   "metadata": {},
   "source": [
    "We'll add the project to PYTHON_PATH so we can import the modules from the project."
   ]
  },
  {
   "cell_type": "code",
   "execution_count": 2,
   "metadata": {},
   "outputs": [
    {
     "data": {
      "text/plain": [
       "['/Volumes/Projects/Evidently/record-thing',\n",
       " '/opt/homebrew/Caskroom/miniconda/base/lib/python311.zip',\n",
       " '/opt/homebrew/Caskroom/miniconda/base/lib/python3.11',\n",
       " '/opt/homebrew/Caskroom/miniconda/base/lib/python3.11/lib-dynload',\n",
       " '',\n",
       " '/opt/homebrew/Caskroom/miniconda/base/lib/python3.11/site-packages']"
      ]
     },
     "execution_count": 2,
     "metadata": {},
     "output_type": "execute_result"
    }
   ],
   "source": [
    "import sys, os\n",
    "proj = os.path.dirname(os.getcwd())\n",
    "if proj not in sys.path:\n",
    "    sys.path.insert(0, proj)\n",
    "sys.path"
   ]
  },
  {
   "cell_type": "markdown",
   "metadata": {},
   "source": [
    "In case we use PyTorch, we'll need to have a `device` variable to handle the device where the model will be trained.\n",
    "MPS support is commented out as it isn't fully supported in the DINO model that we use."
   ]
  },
  {
   "cell_type": "code",
   "execution_count": 3,
   "metadata": {},
   "outputs": [],
   "source": [
    "# Device independent code\n",
    "import torch\n",
    "\n",
    "device = \"cpu\" \n",
    "if torch.cuda.is_available():\n",
    "    device = \"cuda\"\n",
    "# if torch.backends.mps.is_available:\n",
    "#     device = torch.device(\"mps\")\n",
    "torch.device(device)\n",
    "torch.set_default_device(device=device)\n",
    "\n",
    "os.environ[\"PYTORCH_ENABLE_MPS_FALLBACK\"] = \"1\""
   ]
  },
  {
   "cell_type": "markdown",
   "metadata": {},
   "source": [
    "### Local SQLite"
   ]
  },
  {
   "cell_type": "markdown",
   "metadata": {},
   "source": [
    "The sqlite database is created locally."
   ]
  },
  {
   "cell_type": "code",
   "execution_count": 4,
   "metadata": {},
   "outputs": [
    {
     "name": "stderr",
     "output_type": "stream",
     "text": [
      "Using cache found in /Volumes/Projects/Evidently/record-thing/dataset/.cache/torch/hub/facebookresearch_dinov2_main\n",
      "/Volumes/Projects/Evidently/record-thing/dataset/.cache/torch/hub/facebookresearch_dinov2_main/dinov2/layers/swiglu_ffn.py:51: UserWarning: xFormers is not available (SwiGLU)\n",
      "  warnings.warn(\"xFormers is not available (SwiGLU)\")\n",
      "/Volumes/Projects/Evidently/record-thing/dataset/.cache/torch/hub/facebookresearch_dinov2_main/dinov2/layers/attention.py:33: UserWarning: xFormers is not available (Attention)\n",
      "  warnings.warn(\"xFormers is not available (Attention)\")\n",
      "/Volumes/Projects/Evidently/record-thing/dataset/.cache/torch/hub/facebookresearch_dinov2_main/dinov2/layers/block.py:40: UserWarning: xFormers is not available (Block)\n",
      "  warnings.warn(\"xFormers is not available (Block)\")\n"
     ]
    }
   ],
   "source": [
    "from dataset.ingestion import Ingestor\n",
    "from dataset.db import init_db_sqlite\n",
    "\n",
    "db = init_db_sqlite() # \"data/processed/processed.db\")\n",
    "# cursor = db.cursor()\n",
    "# ingestor = Ingestor(cursor, device=device)"
   ]
  },
  {
   "cell_type": "markdown",
   "metadata": {},
   "source": [
    "Inspecting data"
   ]
  },
  {
   "cell_type": "markdown",
   "metadata": {},
   "source": [
    "### Account"
   ]
  },
  {
   "cell_type": "code",
   "execution_count": 12,
   "metadata": {},
   "outputs": [
    {
     "data": {
      "text/plain": [
       "'account count: 1'"
      ]
     },
     "metadata": {},
     "output_type": "display_data"
    },
    {
     "data": {
      "text/plain": [
       "'commons.account_id:'"
      ]
     },
     "metadata": {},
     "output_type": "display_data"
    },
    {
     "data": {
      "text/plain": [
       "b'2pvhs6P5YBKq4NAYas1NED6PehV'"
      ]
     },
     "metadata": {},
     "output_type": "display_data"
    },
    {
     "data": {
      "text/html": [
       "<div>\n",
       "<style scoped>\n",
       "    .dataframe tbody tr th:only-of-type {\n",
       "        vertical-align: middle;\n",
       "    }\n",
       "\n",
       "    .dataframe tbody tr th {\n",
       "        vertical-align: top;\n",
       "    }\n",
       "\n",
       "    .dataframe thead th {\n",
       "        text-align: right;\n",
       "    }\n",
       "</style>\n",
       "<table border=\"1\" class=\"dataframe\">\n",
       "  <thead>\n",
       "    <tr style=\"text-align: right;\">\n",
       "      <th></th>\n",
       "      <th>id</th>\n",
       "      <th>name</th>\n",
       "      <th>email</th>\n",
       "      <th>sms</th>\n",
       "      <th>region</th>\n",
       "    </tr>\n",
       "  </thead>\n",
       "  <tbody>\n",
       "    <tr>\n",
       "      <th>0</th>\n",
       "      <td>b'2pvhs6P5YBKq4NAYas1NED6PehV'</td>\n",
       "      <td>Joe Schmoe</td>\n",
       "      <td>None</td>\n",
       "      <td>None</td>\n",
       "      <td>None</td>\n",
       "    </tr>\n",
       "  </tbody>\n",
       "</table>\n",
       "</div>"
      ],
      "text/plain": [
       "                               id        name email   sms region\n",
       "0  b'2pvhs6P5YBKq4NAYas1NED6PehV'  Joe Schmoe  None  None   None"
      ]
     },
     "metadata": {},
     "output_type": "display_data"
    },
    {
     "name": "stdout",
     "output_type": "stream",
     "text": [
      "Owners\n"
     ]
    },
    {
     "data": {
      "text/html": [
       "<div>\n",
       "<style scoped>\n",
       "    .dataframe tbody tr th:only-of-type {\n",
       "        vertical-align: middle;\n",
       "    }\n",
       "\n",
       "    .dataframe tbody tr th {\n",
       "        vertical-align: top;\n",
       "    }\n",
       "\n",
       "    .dataframe thead th {\n",
       "        text-align: right;\n",
       "    }\n",
       "</style>\n",
       "<table border=\"1\" class=\"dataframe\">\n",
       "  <thead>\n",
       "    <tr style=\"text-align: right;\">\n",
       "      <th></th>\n",
       "      <th>account_id</th>\n",
       "      <th>created_at</th>\n",
       "    </tr>\n",
       "  </thead>\n",
       "  <tbody>\n",
       "  </tbody>\n",
       "</table>\n",
       "</div>"
      ],
      "text/plain": [
       "Empty DataFrame\n",
       "Columns: [account_id, created_at]\n",
       "Index: []"
      ]
     },
     "metadata": {},
     "output_type": "display_data"
    }
   ],
   "source": [
    "from dataset.commons import commons\n",
    "import pandas as pd\n",
    "\n",
    "# with db.cursor() as cursor:\n",
    "count = db.execute(\n",
    "\"\"\"\n",
    "  SELECT COUNT(*) FROM accounts\n",
    "\"\"\"\n",
    "        ).fetchone()\n",
    "\n",
    "display(f\"account count: {count[0]}\")\n",
    "\n",
    "rows = db.execute(\n",
    "\"\"\"\n",
    "  SELECT id, name, email, sms, region FROM accounts\n",
    "  LIMIT 30\n",
    "\"\"\"\n",
    "        ).fetchall()\n",
    "  \n",
    "display(\"commons.account_id:\", commons['account_id'])\n",
    "display(pd.DataFrame(rows, columns=[\"id\", \"name\", \"email\", \"sms\", \"region\"]))\n",
    "\n",
    "owners = db.execute(\"SELECT * FROM owners LIMIT 1\")\n",
    "print(\"Owners\")\n",
    "display(pd.DataFrame(owners.fetchall(), columns=[desc[0] for desc in owners.description]))"
   ]
  },
  {
   "cell_type": "markdown",
   "metadata": {},
   "source": [
    "### Clip Assets"
   ]
  },
  {
   "cell_type": "code",
   "execution_count": 14,
   "metadata": {},
   "outputs": [
    {
     "name": "stderr",
     "output_type": "stream",
     "text": [
      "[autoreload of dataset.db.assets failed: Traceback (most recent call last):\n",
      "  File \"/opt/homebrew/Caskroom/miniconda/base/lib/python3.11/site-packages/IPython/extensions/autoreload.py\", line 276, in check\n",
      "    superreload(m, reload, self.old_objects)\n",
      "  File \"/opt/homebrew/Caskroom/miniconda/base/lib/python3.11/site-packages/IPython/extensions/autoreload.py\", line 500, in superreload\n",
      "    update_generic(old_obj, new_obj)\n",
      "  File \"/opt/homebrew/Caskroom/miniconda/base/lib/python3.11/site-packages/IPython/extensions/autoreload.py\", line 397, in update_generic\n",
      "    update(a, b)\n",
      "  File \"/opt/homebrew/Caskroom/miniconda/base/lib/python3.11/site-packages/IPython/extensions/autoreload.py\", line 353, in update_class\n",
      "    setattr(old, key, getattr(new, key))\n",
      "  File \"/opt/homebrew/Caskroom/miniconda/base/lib/python3.11/site-packages/sqlmodel/main.py\", line 484, in __setattr__\n",
      "    DeclarativeMeta.__setattr__(cls, name, value)\n",
      "  File \"/opt/homebrew/Caskroom/miniconda/base/lib/python3.11/site-packages/sqlalchemy/orm/decl_api.py\", line 130, in __setattr__\n",
      "    _add_attribute(cls, key, value)\n",
      "  File \"/opt/homebrew/Caskroom/miniconda/base/lib/python3.11/site-packages/sqlalchemy/orm/decl_base.py\", line 2104, in _add_attribute\n",
      "    mapped_cls.__mapper__.add_property(key, value)\n",
      "  File \"/opt/homebrew/Caskroom/miniconda/base/lib/python3.11/site-packages/sqlalchemy/orm/mapper.py\", line 2432, in add_property\n",
      "    prop = self._configure_property(\n",
      "           ^^^^^^^^^^^^^^^^^^^^^^^^^\n",
      "  File \"/opt/homebrew/Caskroom/miniconda/base/lib/python3.11/site-packages/sqlalchemy/orm/mapper.py\", line 2091, in _configure_property\n",
      "    prop: MapperProperty[Any] = self._property_from_column(\n",
      "                                ^^^^^^^^^^^^^^^^^^^^^^^^^^^\n",
      "  File \"/opt/homebrew/Caskroom/miniconda/base/lib/python3.11/site-packages/sqlalchemy/orm/mapper.py\", line 2357, in _property_from_column\n",
      "    return self._reconcile_prop_with_incoming_columns(\n",
      "           ^^^^^^^^^^^^^^^^^^^^^^^^^^^^^^^^^^^^^^^^^^^\n",
      "sqlalchemy.exc.InvalidRequestError: Implicitly combining column clip_assets.account with column clip_assets.account under attribute 'account'.  Please configure one or more attributes for these same-named columns explicitly.\n",
      "]\n",
      "[autoreload of dataset.db.products failed: Traceback (most recent call last):\n",
      "  File \"/opt/homebrew/Caskroom/miniconda/base/lib/python3.11/site-packages/IPython/extensions/autoreload.py\", line 276, in check\n",
      "    superreload(m, reload, self.old_objects)\n",
      "  File \"/opt/homebrew/Caskroom/miniconda/base/lib/python3.11/site-packages/IPython/extensions/autoreload.py\", line 500, in superreload\n",
      "    update_generic(old_obj, new_obj)\n",
      "  File \"/opt/homebrew/Caskroom/miniconda/base/lib/python3.11/site-packages/IPython/extensions/autoreload.py\", line 397, in update_generic\n",
      "    update(a, b)\n",
      "  File \"/opt/homebrew/Caskroom/miniconda/base/lib/python3.11/site-packages/IPython/extensions/autoreload.py\", line 353, in update_class\n",
      "    setattr(old, key, getattr(new, key))\n",
      "  File \"/opt/homebrew/Caskroom/miniconda/base/lib/python3.11/site-packages/sqlmodel/main.py\", line 484, in __setattr__\n",
      "    DeclarativeMeta.__setattr__(cls, name, value)\n",
      "  File \"/opt/homebrew/Caskroom/miniconda/base/lib/python3.11/site-packages/sqlalchemy/orm/decl_api.py\", line 130, in __setattr__\n",
      "    _add_attribute(cls, key, value)\n",
      "  File \"/opt/homebrew/Caskroom/miniconda/base/lib/python3.11/site-packages/sqlalchemy/orm/decl_base.py\", line 2104, in _add_attribute\n",
      "    mapped_cls.__mapper__.add_property(key, value)\n",
      "  File \"/opt/homebrew/Caskroom/miniconda/base/lib/python3.11/site-packages/sqlalchemy/orm/mapper.py\", line 2432, in add_property\n",
      "    prop = self._configure_property(\n",
      "           ^^^^^^^^^^^^^^^^^^^^^^^^^\n",
      "  File \"/opt/homebrew/Caskroom/miniconda/base/lib/python3.11/site-packages/sqlalchemy/orm/mapper.py\", line 2091, in _configure_property\n",
      "    prop: MapperProperty[Any] = self._property_from_column(\n",
      "                                ^^^^^^^^^^^^^^^^^^^^^^^^^^^\n",
      "  File \"/opt/homebrew/Caskroom/miniconda/base/lib/python3.11/site-packages/sqlalchemy/orm/mapper.py\", line 2357, in _property_from_column\n",
      "    return self._reconcile_prop_with_incoming_columns(\n",
      "           ^^^^^^^^^^^^^^^^^^^^^^^^^^^^^^^^^^^^^^^^^^^\n",
      "sqlalchemy.exc.InvalidRequestError: Implicitly combining column products.account with column products.account under attribute 'account'.  Please configure one or more attributes for these same-named columns explicitly.\n",
      "]\n",
      "[autoreload of dataset.db.account failed: Traceback (most recent call last):\n",
      "  File \"/opt/homebrew/Caskroom/miniconda/base/lib/python3.11/site-packages/IPython/extensions/autoreload.py\", line 276, in check\n",
      "    superreload(m, reload, self.old_objects)\n",
      "  File \"/opt/homebrew/Caskroom/miniconda/base/lib/python3.11/site-packages/IPython/extensions/autoreload.py\", line 500, in superreload\n",
      "    update_generic(old_obj, new_obj)\n",
      "  File \"/opt/homebrew/Caskroom/miniconda/base/lib/python3.11/site-packages/IPython/extensions/autoreload.py\", line 397, in update_generic\n",
      "    update(a, b)\n",
      "  File \"/opt/homebrew/Caskroom/miniconda/base/lib/python3.11/site-packages/IPython/extensions/autoreload.py\", line 353, in update_class\n",
      "    setattr(old, key, getattr(new, key))\n",
      "  File \"/opt/homebrew/Caskroom/miniconda/base/lib/python3.11/site-packages/sqlmodel/main.py\", line 484, in __setattr__\n",
      "    DeclarativeMeta.__setattr__(cls, name, value)\n",
      "  File \"/opt/homebrew/Caskroom/miniconda/base/lib/python3.11/site-packages/sqlalchemy/orm/decl_api.py\", line 130, in __setattr__\n",
      "    _add_attribute(cls, key, value)\n",
      "  File \"/opt/homebrew/Caskroom/miniconda/base/lib/python3.11/site-packages/sqlalchemy/orm/decl_base.py\", line 2104, in _add_attribute\n",
      "    mapped_cls.__mapper__.add_property(key, value)\n",
      "  File \"/opt/homebrew/Caskroom/miniconda/base/lib/python3.11/site-packages/sqlalchemy/orm/mapper.py\", line 2432, in add_property\n",
      "    prop = self._configure_property(\n",
      "           ^^^^^^^^^^^^^^^^^^^^^^^^^\n",
      "  File \"/opt/homebrew/Caskroom/miniconda/base/lib/python3.11/site-packages/sqlalchemy/orm/mapper.py\", line 2091, in _configure_property\n",
      "    prop: MapperProperty[Any] = self._property_from_column(\n",
      "                                ^^^^^^^^^^^^^^^^^^^^^^^^^^^\n",
      "  File \"/opt/homebrew/Caskroom/miniconda/base/lib/python3.11/site-packages/sqlalchemy/orm/mapper.py\", line 2357, in _property_from_column\n",
      "    return self._reconcile_prop_with_incoming_columns(\n",
      "           ^^^^^^^^^^^^^^^^^^^^^^^^^^^^^^^^^^^^^^^^^^^\n",
      "sqlalchemy.exc.InvalidRequestError: Implicitly combining column accounts.id with column accounts.id under attribute 'id'.  Please configure one or more attributes for these same-named columns explicitly.\n",
      "]\n"
     ]
    },
    {
     "data": {
      "text/plain": [
       "'clip_assets count: 0'"
      ]
     },
     "metadata": {},
     "output_type": "display_data"
    },
    {
     "data": {
      "text/html": [
       "<div>\n",
       "<style scoped>\n",
       "    .dataframe tbody tr th:only-of-type {\n",
       "        vertical-align: middle;\n",
       "    }\n",
       "\n",
       "    .dataframe tbody tr th {\n",
       "        vertical-align: top;\n",
       "    }\n",
       "\n",
       "    .dataframe thead th {\n",
       "        text-align: right;\n",
       "    }\n",
       "</style>\n",
       "<table border=\"1\" class=\"dataframe\">\n",
       "  <thead>\n",
       "    <tr style=\"text-align: right;\">\n",
       "      <th></th>\n",
       "      <th>embedding</th>\n",
       "      <th>distance</th>\n",
       "      <th>name</th>\n",
       "    </tr>\n",
       "  </thead>\n",
       "  <tbody>\n",
       "  </tbody>\n",
       "</table>\n",
       "</div>"
      ],
      "text/plain": [
       "Empty DataFrame\n",
       "Columns: [embedding, distance, name]\n",
       "Index: []"
      ]
     },
     "metadata": {},
     "output_type": "display_data"
    }
   ],
   "source": [
    "import pandas as pd\n",
    "\n",
    "# with connection.cursor() as cursor:\n",
    "count = db.execute(\n",
    "\"\"\"\n",
    "  SELECT COUNT(*) FROM clip_assets\n",
    "\"\"\"\n",
    "        ).fetchone()\n",
    "\n",
    "display(f\"clip_assets count: {count[0]}\")\n",
    "\n",
    "rows = db.execute(\n",
    "\"\"\"\n",
    "  SELECT clip_assets.id, clip_assets.name FROM clip_assets\n",
    "  INNER JOIN dino_embedding ON dino_embedding.asset_id = clip_assets.id\n",
    "  LIMIT 30\n",
    "\"\"\"\n",
    "        ).fetchall()\n",
    "\n",
    "\n",
    "display(pd.DataFrame(rows, columns=[\"embedding\", \"distance\", \"name\"]))"
   ]
  },
  {
   "cell_type": "markdown",
   "metadata": {},
   "source": [
    "### Products"
   ]
  },
  {
   "cell_type": "code",
   "execution_count": 13,
   "metadata": {},
   "outputs": [
    {
     "data": {
      "text/plain": [
       "'clip_assets count: 0'"
      ]
     },
     "metadata": {},
     "output_type": "display_data"
    },
    {
     "data": {
      "text/html": [
       "<div>\n",
       "<style scoped>\n",
       "    .dataframe tbody tr th:only-of-type {\n",
       "        vertical-align: middle;\n",
       "    }\n",
       "\n",
       "    .dataframe tbody tr th {\n",
       "        vertical-align: top;\n",
       "    }\n",
       "\n",
       "    .dataframe thead th {\n",
       "        text-align: right;\n",
       "    }\n",
       "</style>\n",
       "<table border=\"1\" class=\"dataframe\">\n",
       "  <thead>\n",
       "    <tr style=\"text-align: right;\">\n",
       "      <th></th>\n",
       "      <th>id</th>\n",
       "      <th>name</th>\n",
       "      <th>upc</th>\n",
       "      <th>asin</th>\n",
       "      <th>elid</th>\n",
       "      <th>brand</th>\n",
       "      <th>model</th>\n",
       "      <th>color</th>\n",
       "      <th>tags</th>\n",
       "      <th>category</th>\n",
       "      <th>title</th>\n",
       "      <th>description</th>\n",
       "    </tr>\n",
       "  </thead>\n",
       "  <tbody>\n",
       "  </tbody>\n",
       "</table>\n",
       "</div>"
      ],
      "text/plain": [
       "Empty DataFrame\n",
       "Columns: [id, name, upc, asin, elid, brand, model, color, tags, category, title, description]\n",
       "Index: []"
      ]
     },
     "metadata": {},
     "output_type": "display_data"
    }
   ],
   "source": [
    "import pandas as pd\n",
    "\n",
    "# with connection.cursor() as cursor:\n",
    "count = db.execute(\n",
    "\"\"\"\n",
    "  SELECT COUNT(*) FROM products\n",
    "\"\"\"\n",
    "        ).fetchone()\n",
    "\n",
    "display(f\"clip_assets count: {count[0]}\")\n",
    "\n",
    "rows = db.execute(\n",
    "    \"\"\"\n",
    "      SELECT id, name, upc, asin, elid, brand, model, color, tags, category, title, description FROM products\n",
    "      LIMIT 30\n",
    "    \"\"\"\n",
    "    )\n",
    "\n",
    "\n",
    "# display(pd.DataFrame(rows, columns=[\"id\", \"name\", \"upc\",\"asin\",\"elid\",\"brand\",\"model\",\"color\",\"tags\",\"category\",\"title\",\"description\"]))\n",
    "display(pd.DataFrame(rows.fetchall(), columns=[desc[0] for desc in rows.description]))\n"
   ]
  },
  {
   "cell_type": "markdown",
   "metadata": {},
   "source": []
  }
 ],
 "metadata": {
  "kernelspec": {
   "display_name": "base",
   "language": "python",
   "name": "python3"
  },
  "language_info": {
   "codemirror_mode": {
    "name": "ipython",
    "version": 3
   },
   "file_extension": ".py",
   "mimetype": "text/x-python",
   "name": "python",
   "nbconvert_exporter": "python",
   "pygments_lexer": "ipython3",
   "version": "3.11.8"
  }
 },
 "nbformat": 4,
 "nbformat_minor": 2
}
